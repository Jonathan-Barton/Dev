{
  "nbformat": 4,
  "nbformat_minor": 0,
  "metadata": {
    "colab": {
      "name": "WinnerPicker.ipynb",
      "provenance": [],
      "authorship_tag": "ABX9TyN+YTD2oXtMr4MlVUzsBTQ2",
      "include_colab_link": true
    },
    "kernelspec": {
      "name": "python3",
      "display_name": "Python 3"
    },
    "language_info": {
      "name": "python"
    }
  },
  "cells": [
    {
      "cell_type": "markdown",
      "metadata": {
        "id": "view-in-github",
        "colab_type": "text"
      },
      "source": [
        "<a href=\"https://colab.research.google.com/github/Jonathan-Barton/Dev/blob/master/WinnerPicker.ipynb\" target=\"_parent\"><img src=\"https://colab.research.google.com/assets/colab-badge.svg\" alt=\"Open In Colab\"/></a>"
      ]
    },
    {
      "cell_type": "code",
      "execution_count": null,
      "metadata": {
        "id": "dinjcfQKTVbo"
      },
      "outputs": [],
      "source": [
        "#Random number generator\n",
        "\n",
        "#Input number of participants per month\n",
        "x =     # <--input here\n",
        "\n",
        "#random number generation \n",
        "winner = randrange(90,x)\n",
        "print('The gift card goes to participant number ' )"
      ]
    }
  ]
}